{
 "cells": [
  {
   "cell_type": "code",
   "execution_count": 15,
   "metadata": {
    "id": "vQXLMdNYkNja"
   },
   "outputs": [],
   "source": [
    "from keras.layers import Input, Lambda, Dense, Flatten\n",
    "from keras.models import Model\n",
    "from keras.applications.vgg16 import VGG16\n",
    "from keras.applications.vgg16 import preprocess_input\n",
    "from keras.preprocessing import image\n",
    "from keras.preprocessing.image import ImageDataGenerator\n",
    "from keras.models import Sequential\n",
    "from keras.layers import Dense, Conv2D, MaxPool2D , Flatten\n",
    "import numpy as np\n",
    "from glob import glob\n",
    "import matplotlib.pyplot as plt\n",
    "import tensorflow as tf\n",
    "import warnings\n",
    "warnings.filterwarnings(\"ignore\", category=FutureWarning)\n",
    "\n",
    "from PIL import ImageFile\n",
    "ImageFile.LOAD_TRUNCATED_IMAGES = False"
   ]
  },
  {
   "cell_type": "code",
   "execution_count": 16,
   "metadata": {
    "id": "rYmdSVpQkSCi"
   },
   "outputs": [],
   "source": [
    "# Dataset path\n",
    "train_path = 'HAM10000/train_dir'\n",
    "test_path = 'HAM10000/test_dir'\n"
   ]
  },
  {
   "cell_type": "code",
   "execution_count": 17,
   "metadata": {},
   "outputs": [],
   "source": [
    "import PIL\n",
    "from pathlib import Path\n",
    "from PIL import UnidentifiedImageError\n",
    "\n",
    "path = Path(\"INSERT PATH HERE\").rglob(\"*.jpeg\")\n",
    "for img_p in path:\n",
    "    try:\n",
    "        img = PIL.Image.open(img_p)\n",
    "    except PIL.UnidentifiedImageError:\n",
    "            print(img_p)"
   ]
  },
  {
   "cell_type": "code",
   "execution_count": 32,
   "metadata": {
    "colab": {
     "base_uri": "https://localhost:8080/"
    },
    "id": "xNlb08emV7v9",
    "outputId": "240f2030-3651-4715-e257-deb32582dcbb"
   },
   "outputs": [
    {
     "name": "stdout",
     "output_type": "stream",
     "text": [
      "Training set\n",
      "Found 6372 images belonging to 7 classes.\n",
      "Testing set\n",
      "Found 1525 images belonging to 7 classes.\n"
     ]
    },
    {
     "data": {
      "text/plain": [
       "array([0, 0, 0, 0, 0, 0, 0, 0, 0, 0, 0, 0, 0, 0, 0, 0, 0, 0, 0, 0, 0, 0,\n",
       "       0, 0, 0, 0, 0, 0, 0, 0, 0, 0, 0, 0, 0, 0, 0, 0, 0, 0, 1, 1, 1, 1,\n",
       "       1, 1, 1, 1, 1, 1])"
      ]
     },
     "execution_count": 32,
     "metadata": {},
     "output_type": "execute_result"
    }
   ],
   "source": [
    "# Data Generation\n",
    "data_gen = ImageDataGenerator(preprocessing_function=preprocess_input)\n",
    "print(\"Training set\")\n",
    "train_data = data_gen.flow_from_directory(train_path,\n",
    "                                          target_size = (224, 224),\n",
    "                                          batch_size = 16,\n",
    "                                          class_mode = 'categorical',\n",
    "                                          shuffle = True)\n",
    "print(\"Testing set\")\n",
    "test_data = data_gen.flow_from_directory(test_path,\n",
    "                                         target_size = (224, 224),\n",
    "                                         batch_size = 16,\n",
    "                                         class_mode = 'categorical',\n",
    "                                         shuffle = False)\n",
    "\n"
   ]
  },
  {
   "cell_type": "code",
   "execution_count": 21,
   "metadata": {
    "id": "3NbV4Ea4W_IZ"
   },
   "outputs": [],
   "source": [
    "from keras.layers.normalization.batch_normalization import BatchNormalization\n",
    "# Creating Vgg-16 model\n",
    "model = Sequential()\n",
    "\n",
    "# Convolution layers\n",
    "model.add(Conv2D(input_shape=(224,224,3), filters=64, kernel_size=(3,3), padding=\"same\", activation=\"relu\"))\n",
    "model.add(Conv2D(filters=64, kernel_size=(1,1), padding=\"same\", activation=\"relu\"))\n",
    "model.add(MaxPool2D())\n",
    "model.add(BatchNormalization())\n",
    "\n",
    "model.add(Conv2D(filters=128, kernel_size=(3,3), padding=\"same\", activation=\"relu\"))\n",
    "model.add(Conv2D(filters=128, kernel_size=(1,1), padding=\"same\", activation=\"relu\"))\n",
    "model.add(MaxPool2D())\n",
    "model.add(BatchNormalization())\n",
    "\n",
    "model.add(Conv2D(filters=256, kernel_size=(3,3), padding=\"same\", activation=\"relu\"))\n",
    "model.add(Conv2D(filters=256, kernel_size=(3,3), padding=\"same\", activation=\"relu\"))\n",
    "model.add(Conv2D(filters=256, kernel_size=(1,1), padding=\"same\", activation=\"relu\"))\n",
    "model.add(MaxPool2D())\n",
    "model.add(BatchNormalization())\n",
    "\n",
    "model.add(Conv2D(filters=512, kernel_size=(3,3), padding=\"same\", activation=\"relu\"))\n",
    "model.add(Conv2D(filters=512, kernel_size=(3,3), padding=\"same\", activation=\"relu\"))\n",
    "model.add(Conv2D(filters=512, kernel_size=(1,1), padding=\"same\", activation=\"relu\"))\n",
    "model.add(MaxPool2D())\n",
    "model.add(BatchNormalization())\n",
    "\n",
    "model.add(Conv2D(filters=512, kernel_size=(3,3), padding=\"same\", activation=\"relu\"))\n",
    "model.add(Conv2D(filters=512, kernel_size=(3,3), padding=\"same\", activation=\"relu\"))\n",
    "model.add(Conv2D(filters=512, kernel_size=(1,1), padding=\"same\", activation=\"relu\"))\n",
    "model.add(MaxPool2D(pool_size=(4, 4),padding=\"same\"))\n",
    "model.add(BatchNormalization())"
   ]
  },
  {
   "cell_type": "code",
   "execution_count": 22,
   "metadata": {
    "id": "zghsbwcEbBrA"
   },
   "outputs": [],
   "source": [
    "# Linear Layer\n",
    "model.add(Flatten())\n",
    "model.add(Dense(units=4096,activation=\"relu\"))\n",
    "model.add(Dense(units=4096,activation=\"relu\"))\n",
    "model.add(Dense(units=7, activation=\"softmax\"))"
   ]
  },
  {
   "cell_type": "code",
   "execution_count": 23,
   "metadata": {
    "colab": {
     "base_uri": "https://localhost:8080/"
    },
    "id": "6wwSSlSebXYa",
    "outputId": "69e9b64f-0983-4205-c323-59be53be78b7",
    "scrolled": true
   },
   "outputs": [
    {
     "name": "stdout",
     "output_type": "stream",
     "text": [
      "Model: \"sequential_2\"\n",
      "_________________________________________________________________\n",
      " Layer (type)                Output Shape              Param #   \n",
      "=================================================================\n",
      " conv2d_26 (Conv2D)          (None, 224, 224, 64)      1792      \n",
      "                                                                 \n",
      " conv2d_27 (Conv2D)          (None, 224, 224, 64)      4160      \n",
      "                                                                 \n",
      " max_pooling2d_10 (MaxPoolin  (None, 112, 112, 64)     0         \n",
      " g2D)                                                            \n",
      "                                                                 \n",
      " batch_normalization_10 (Bat  (None, 112, 112, 64)     256       \n",
      " chNormalization)                                                \n",
      "                                                                 \n",
      " conv2d_28 (Conv2D)          (None, 112, 112, 128)     73856     \n",
      "                                                                 \n",
      " conv2d_29 (Conv2D)          (None, 112, 112, 128)     16512     \n",
      "                                                                 \n",
      " max_pooling2d_11 (MaxPoolin  (None, 56, 56, 128)      0         \n",
      " g2D)                                                            \n",
      "                                                                 \n",
      " batch_normalization_11 (Bat  (None, 56, 56, 128)      512       \n",
      " chNormalization)                                                \n",
      "                                                                 \n",
      " conv2d_30 (Conv2D)          (None, 56, 56, 256)       295168    \n",
      "                                                                 \n",
      " conv2d_31 (Conv2D)          (None, 56, 56, 256)       590080    \n",
      "                                                                 \n",
      " conv2d_32 (Conv2D)          (None, 56, 56, 256)       65792     \n",
      "                                                                 \n",
      " max_pooling2d_12 (MaxPoolin  (None, 28, 28, 256)      0         \n",
      " g2D)                                                            \n",
      "                                                                 \n",
      " batch_normalization_12 (Bat  (None, 28, 28, 256)      1024      \n",
      " chNormalization)                                                \n",
      "                                                                 \n",
      " conv2d_33 (Conv2D)          (None, 28, 28, 512)       1180160   \n",
      "                                                                 \n",
      " conv2d_34 (Conv2D)          (None, 28, 28, 512)       2359808   \n",
      "                                                                 \n",
      " conv2d_35 (Conv2D)          (None, 28, 28, 512)       262656    \n",
      "                                                                 \n",
      " max_pooling2d_13 (MaxPoolin  (None, 14, 14, 512)      0         \n",
      " g2D)                                                            \n",
      "                                                                 \n",
      " batch_normalization_13 (Bat  (None, 14, 14, 512)      2048      \n",
      " chNormalization)                                                \n",
      "                                                                 \n",
      " conv2d_36 (Conv2D)          (None, 14, 14, 512)       2359808   \n",
      "                                                                 \n",
      " conv2d_37 (Conv2D)          (None, 14, 14, 512)       2359808   \n",
      "                                                                 \n",
      " conv2d_38 (Conv2D)          (None, 14, 14, 512)       262656    \n",
      "                                                                 \n",
      " max_pooling2d_14 (MaxPoolin  (None, 4, 4, 512)        0         \n",
      " g2D)                                                            \n",
      "                                                                 \n",
      " batch_normalization_14 (Bat  (None, 4, 4, 512)        2048      \n",
      " chNormalization)                                                \n",
      "                                                                 \n",
      " flatten_1 (Flatten)         (None, 8192)              0         \n",
      "                                                                 \n",
      " dense_3 (Dense)             (None, 4096)              33558528  \n",
      "                                                                 \n",
      " dense_4 (Dense)             (None, 4096)              16781312  \n",
      "                                                                 \n",
      " dense_5 (Dense)             (None, 7)                 28679     \n",
      "                                                                 \n",
      "=================================================================\n",
      "Total params: 60,206,663\n",
      "Trainable params: 60,203,719\n",
      "Non-trainable params: 2,944\n",
      "_________________________________________________________________\n"
     ]
    }
   ],
   "source": [
    "model.summary()"
   ]
  },
  {
   "cell_type": "code",
   "execution_count": 24,
   "metadata": {
    "id": "V6nn9n8Eb7WG"
   },
   "outputs": [],
   "source": [
    "from keras import optimizers\n",
    "adam = tf.keras.optimizers.Adam(learning_rate=0.001,epsilon=0.1)\n",
    "model.compile(loss='categorical_crossentropy',\n",
    "              optimizer=adam,\n",
    "              metrics=['accuracy'])"
   ]
  },
  {
   "cell_type": "code",
   "execution_count": 25,
   "metadata": {
    "id": "h8vK3fUFcTFR"
   },
   "outputs": [],
   "source": [
    "class_weights = {   \n",
    "                    0: 1.0,  # akiec\n",
    "                    1: 1.0,  # bcc\n",
    "                    2: 1.0,  # bkl\n",
    "                    3: 1.0,  # df\n",
    "                    4: 5.0,  # mel\n",
    "                    5: 1.0,  # nv\n",
    "                    6: 1.0,  # vasc\n",
    "                }\n"
   ]
  },
  {
   "cell_type": "code",
   "execution_count": 47,
   "metadata": {
    "colab": {
     "base_uri": "https://localhost:8080/",
     "height": 1000
    },
    "id": "_qxC8ootd7Pk",
    "outputId": "1a6b2457-a7f8-4cd4-d6d7-3dbd21d0a9ef"
   },
   "outputs": [
    {
     "name": "stdout",
     "output_type": "stream",
     "text": [
      "Epoch 1/100\n",
      "350/350 - 37s - loss: 0.7135 - accuracy: 0.7853 - val_loss: 0.5376 - val_accuracy: 0.8000 - 37s/epoch - 107ms/step\n",
      "Epoch 2/100\n",
      "350/350 - 36s - loss: 0.6376 - accuracy: 0.8146 - val_loss: 0.4687 - val_accuracy: 0.8250 - 36s/epoch - 104ms/step\n",
      "Epoch 3/100\n",
      "350/350 - 36s - loss: 0.6625 - accuracy: 0.8114 - val_loss: 0.3815 - val_accuracy: 0.8700 - 36s/epoch - 102ms/step\n",
      "Epoch 4/100\n",
      "350/350 - 36s - loss: 0.5643 - accuracy: 0.8289 - val_loss: 0.5072 - val_accuracy: 0.8250 - 36s/epoch - 102ms/step\n",
      "Epoch 5/100\n",
      "350/350 - 35s - loss: 0.4600 - accuracy: 0.8710 - val_loss: 0.6991 - val_accuracy: 0.7750 - 35s/epoch - 101ms/step\n",
      "Epoch 6/100\n",
      "350/350 - 36s - loss: 0.3115 - accuracy: 0.9123 - val_loss: 0.4164 - val_accuracy: 0.8662 - 36s/epoch - 102ms/step\n",
      "Epoch 7/100\n",
      "350/350 - 35s - loss: 0.3453 - accuracy: 0.9055 - val_loss: 0.4147 - val_accuracy: 0.8550 - 35s/epoch - 101ms/step\n",
      "Epoch 8/100\n",
      "350/350 - 36s - loss: 0.2998 - accuracy: 0.9137 - val_loss: 0.3352 - val_accuracy: 0.8938 - 36s/epoch - 102ms/step\n",
      "Epoch 9/100\n",
      "350/350 - 37s - loss: 0.2256 - accuracy: 0.9381 - val_loss: 0.3132 - val_accuracy: 0.9112 - 37s/epoch - 105ms/step\n",
      "Epoch 10/100\n",
      "350/350 - 35s - loss: 0.2543 - accuracy: 0.9291 - val_loss: 0.1909 - val_accuracy: 0.9287 - 35s/epoch - 101ms/step\n",
      "Epoch 11/100\n",
      "350/350 - 35s - loss: 0.1568 - accuracy: 0.9576 - val_loss: 0.2771 - val_accuracy: 0.9250 - 35s/epoch - 101ms/step\n",
      "Epoch 12/100\n",
      "350/350 - 36s - loss: 0.1499 - accuracy: 0.9635 - val_loss: 0.5766 - val_accuracy: 0.8213 - 36s/epoch - 102ms/step\n",
      "Epoch 13/100\n",
      "350/350 - 36s - loss: 0.3423 - accuracy: 0.9118 - val_loss: 0.5932 - val_accuracy: 0.8188 - 36s/epoch - 102ms/step\n",
      "Epoch 14/100\n",
      "350/350 - 36s - loss: 0.2263 - accuracy: 0.9417 - val_loss: 0.2550 - val_accuracy: 0.9125 - 36s/epoch - 104ms/step\n",
      "Epoch 15/100\n",
      "350/350 - 35s - loss: 0.1507 - accuracy: 0.9626 - val_loss: 0.2601 - val_accuracy: 0.9287 - 35s/epoch - 100ms/step\n",
      "Epoch 16/100\n",
      "350/350 - 35s - loss: 0.1015 - accuracy: 0.9753 - val_loss: 0.2839 - val_accuracy: 0.9312 - 35s/epoch - 101ms/step\n",
      "Epoch 17/100\n",
      "350/350 - 36s - loss: 0.1195 - accuracy: 0.9698 - val_loss: 0.3558 - val_accuracy: 0.8963 - 36s/epoch - 102ms/step\n",
      "Epoch 18/100\n",
      "350/350 - 35s - loss: 0.1670 - accuracy: 0.9549 - val_loss: 0.4386 - val_accuracy: 0.8788 - 35s/epoch - 100ms/step\n",
      "Epoch 19/100\n",
      "350/350 - 36s - loss: 0.0692 - accuracy: 0.9826 - val_loss: 0.2238 - val_accuracy: 0.9362 - 36s/epoch - 103ms/step\n",
      "Epoch 20/100\n",
      "350/350 - 36s - loss: 0.0449 - accuracy: 0.9907 - val_loss: 0.3452 - val_accuracy: 0.9200 - 36s/epoch - 104ms/step\n",
      "Epoch 21/100\n",
      "350/350 - 36s - loss: 0.1264 - accuracy: 0.9648 - val_loss: 0.3066 - val_accuracy: 0.9137 - 36s/epoch - 103ms/step\n",
      "Epoch 22/100\n",
      "350/350 - 37s - loss: 0.1093 - accuracy: 0.9732 - val_loss: 0.2052 - val_accuracy: 0.9475 - 37s/epoch - 106ms/step\n",
      "Epoch 23/100\n",
      "350/350 - 39s - loss: 0.0559 - accuracy: 0.9891 - val_loss: 0.3060 - val_accuracy: 0.9137 - 39s/epoch - 111ms/step\n",
      "Epoch 24/100\n",
      "350/350 - 38s - loss: 0.0454 - accuracy: 0.9898 - val_loss: 0.5440 - val_accuracy: 0.8725 - 38s/epoch - 109ms/step\n",
      "Epoch 25/100\n",
      "350/350 - 39s - loss: 0.0763 - accuracy: 0.9810 - val_loss: 0.8140 - val_accuracy: 0.8163 - 39s/epoch - 110ms/step\n",
      "Epoch 26/100\n",
      "350/350 - 39s - loss: 0.0411 - accuracy: 0.9905 - val_loss: 0.3991 - val_accuracy: 0.9087 - 39s/epoch - 112ms/step\n",
      "Epoch 27/100\n",
      "350/350 - 37s - loss: 0.0249 - accuracy: 0.9945 - val_loss: 0.2742 - val_accuracy: 0.9300 - 37s/epoch - 106ms/step\n",
      "Epoch 28/100\n",
      "350/350 - 35s - loss: 0.0206 - accuracy: 0.9945 - val_loss: 0.5854 - val_accuracy: 0.8725 - 35s/epoch - 100ms/step\n",
      "Epoch 29/100\n",
      "350/350 - 35s - loss: 0.0270 - accuracy: 0.9939 - val_loss: 0.3178 - val_accuracy: 0.9375 - 35s/epoch - 99ms/step\n",
      "Epoch 30/100\n",
      "350/350 - 36s - loss: 0.0063 - accuracy: 0.9993 - val_loss: 0.3385 - val_accuracy: 0.9212 - 36s/epoch - 103ms/step\n",
      "Epoch 31/100\n",
      "350/350 - 36s - loss: 0.0039 - accuracy: 0.9996 - val_loss: 0.2788 - val_accuracy: 0.9362 - 36s/epoch - 103ms/step\n",
      "Epoch 32/100\n",
      "350/350 - 39s - loss: 0.0046 - accuracy: 0.9995 - val_loss: 0.3495 - val_accuracy: 0.9262 - 39s/epoch - 111ms/step\n",
      "Epoch 33/100\n",
      "350/350 - 39s - loss: 0.0033 - accuracy: 0.9996 - val_loss: 0.2735 - val_accuracy: 0.9350 - 39s/epoch - 111ms/step\n",
      "Epoch 34/100\n",
      "350/350 - 38s - loss: 0.0015 - accuracy: 1.0000 - val_loss: 0.3089 - val_accuracy: 0.9275 - 38s/epoch - 109ms/step\n",
      "Epoch 35/100\n",
      "350/350 - 39s - loss: 0.0015 - accuracy: 1.0000 - val_loss: 0.3694 - val_accuracy: 0.9187 - 39s/epoch - 110ms/step\n",
      "Epoch 36/100\n",
      "350/350 - 41s - loss: 0.0017 - accuracy: 0.9996 - val_loss: 0.3702 - val_accuracy: 0.9250 - 41s/epoch - 118ms/step\n",
      "Epoch 37/100\n",
      "350/350 - 38s - loss: 0.0017 - accuracy: 0.9998 - val_loss: 0.3412 - val_accuracy: 0.9275 - 38s/epoch - 108ms/step\n",
      "Epoch 38/100\n",
      "350/350 - 37s - loss: 0.0013 - accuracy: 1.0000 - val_loss: 0.3056 - val_accuracy: 0.9287 - 37s/epoch - 105ms/step\n",
      "Epoch 39/100\n",
      "350/350 - 36s - loss: 0.0021 - accuracy: 0.9996 - val_loss: 0.4377 - val_accuracy: 0.8950 - 36s/epoch - 103ms/step\n",
      "Epoch 40/100\n",
      "350/350 - 36s - loss: 7.5808e-04 - accuracy: 1.0000 - val_loss: 0.3655 - val_accuracy: 0.9162 - 36s/epoch - 102ms/step\n",
      "Epoch 41/100\n",
      "350/350 - 35s - loss: 0.0011 - accuracy: 1.0000 - val_loss: 0.3084 - val_accuracy: 0.9325 - 35s/epoch - 100ms/step\n",
      "Epoch 42/100\n",
      "350/350 - 35s - loss: 0.0011 - accuracy: 0.9998 - val_loss: 0.3770 - val_accuracy: 0.9187 - 35s/epoch - 100ms/step\n",
      "Epoch 43/100\n",
      "350/350 - 35s - loss: 0.0025 - accuracy: 0.9998 - val_loss: 0.3198 - val_accuracy: 0.9350 - 35s/epoch - 100ms/step\n",
      "Epoch 44/100\n",
      "350/350 - 35s - loss: 6.6096e-04 - accuracy: 1.0000 - val_loss: 0.3423 - val_accuracy: 0.9325 - 35s/epoch - 100ms/step\n",
      "Epoch 45/100\n",
      "350/350 - 35s - loss: 7.7851e-04 - accuracy: 0.9998 - val_loss: 0.3189 - val_accuracy: 0.9312 - 35s/epoch - 100ms/step\n",
      "Epoch 46/100\n",
      "350/350 - 35s - loss: 0.0011 - accuracy: 0.9998 - val_loss: 0.3725 - val_accuracy: 0.9212 - 35s/epoch - 99ms/step\n",
      "Epoch 47/100\n",
      "350/350 - 35s - loss: 7.7770e-04 - accuracy: 0.9998 - val_loss: 0.3659 - val_accuracy: 0.9250 - 35s/epoch - 100ms/step\n",
      "Epoch 48/100\n",
      "350/350 - 35s - loss: 9.5623e-04 - accuracy: 1.0000 - val_loss: 0.4123 - val_accuracy: 0.9175 - 35s/epoch - 100ms/step\n",
      "Epoch 49/100\n",
      "350/350 - 35s - loss: 0.0017 - accuracy: 0.9996 - val_loss: 0.4369 - val_accuracy: 0.9075 - 35s/epoch - 100ms/step\n",
      "Epoch 50/100\n",
      "350/350 - 35s - loss: 0.0012 - accuracy: 0.9996 - val_loss: 0.3629 - val_accuracy: 0.9237 - 35s/epoch - 100ms/step\n",
      "Epoch 51/100\n",
      "350/350 - 35s - loss: 6.1325e-04 - accuracy: 1.0000 - val_loss: 0.3652 - val_accuracy: 0.9225 - 35s/epoch - 101ms/step\n",
      "Epoch 52/100\n",
      "350/350 - 35s - loss: 5.0498e-04 - accuracy: 1.0000 - val_loss: 0.3513 - val_accuracy: 0.9225 - 35s/epoch - 101ms/step\n",
      "Epoch 53/100\n",
      "350/350 - 35s - loss: 0.0017 - accuracy: 0.9995 - val_loss: 0.3166 - val_accuracy: 0.9300 - 35s/epoch - 100ms/step\n",
      "Epoch 54/100\n",
      "350/350 - 35s - loss: 8.8043e-04 - accuracy: 1.0000 - val_loss: 0.3568 - val_accuracy: 0.9237 - 35s/epoch - 101ms/step\n",
      "Epoch 55/100\n",
      "350/350 - 35s - loss: 4.6734e-04 - accuracy: 1.0000 - val_loss: 0.3348 - val_accuracy: 0.9312 - 35s/epoch - 100ms/step\n",
      "Epoch 56/100\n",
      "350/350 - 35s - loss: 6.0071e-04 - accuracy: 1.0000 - val_loss: 0.3154 - val_accuracy: 0.9362 - 35s/epoch - 100ms/step\n",
      "Epoch 57/100\n",
      "350/350 - 35s - loss: 4.9825e-04 - accuracy: 1.0000 - val_loss: 0.3312 - val_accuracy: 0.9350 - 35s/epoch - 101ms/step\n",
      "Epoch 58/100\n",
      "350/350 - 35s - loss: 4.6168e-04 - accuracy: 1.0000 - val_loss: 0.3302 - val_accuracy: 0.9325 - 35s/epoch - 100ms/step\n",
      "Epoch 59/100\n",
      "350/350 - 35s - loss: 8.2302e-04 - accuracy: 0.9998 - val_loss: 0.3485 - val_accuracy: 0.9237 - 35s/epoch - 101ms/step\n",
      "Epoch 60/100\n",
      "350/350 - 35s - loss: 5.0540e-04 - accuracy: 1.0000 - val_loss: 0.3306 - val_accuracy: 0.9275 - 35s/epoch - 100ms/step\n",
      "Epoch 61/100\n",
      "350/350 - 35s - loss: 8.2369e-04 - accuracy: 0.9998 - val_loss: 0.3155 - val_accuracy: 0.9312 - 35s/epoch - 99ms/step\n",
      "Epoch 62/100\n",
      "350/350 - 35s - loss: 2.5818e-04 - accuracy: 1.0000 - val_loss: 0.3211 - val_accuracy: 0.9312 - 35s/epoch - 101ms/step\n",
      "Epoch 63/100\n",
      "350/350 - 35s - loss: 3.4425e-04 - accuracy: 1.0000 - val_loss: 0.3260 - val_accuracy: 0.9287 - 35s/epoch - 100ms/step\n",
      "Epoch 64/100\n",
      "350/350 - 35s - loss: 3.0088e-04 - accuracy: 1.0000 - val_loss: 0.3072 - val_accuracy: 0.9362 - 35s/epoch - 100ms/step\n"
     ]
    },
    {
     "name": "stdout",
     "output_type": "stream",
     "text": [
      "Epoch 65/100\n",
      "350/350 - 35s - loss: 2.9969e-04 - accuracy: 1.0000 - val_loss: 0.3249 - val_accuracy: 0.9312 - 35s/epoch - 100ms/step\n",
      "Epoch 66/100\n",
      "350/350 - 35s - loss: 9.6289e-04 - accuracy: 0.9998 - val_loss: 0.3067 - val_accuracy: 0.9337 - 35s/epoch - 100ms/step\n",
      "Epoch 67/100\n",
      "350/350 - 35s - loss: 5.2046e-04 - accuracy: 1.0000 - val_loss: 0.3432 - val_accuracy: 0.9325 - 35s/epoch - 101ms/step\n",
      "Epoch 68/100\n",
      "350/350 - 35s - loss: 2.4415e-04 - accuracy: 1.0000 - val_loss: 0.3376 - val_accuracy: 0.9350 - 35s/epoch - 101ms/step\n",
      "Epoch 69/100\n",
      "350/350 - 35s - loss: 6.2628e-04 - accuracy: 0.9998 - val_loss: 0.3083 - val_accuracy: 0.9350 - 35s/epoch - 100ms/step\n",
      "Epoch 70/100\n",
      "350/350 - 35s - loss: 5.1388e-04 - accuracy: 1.0000 - val_loss: 0.3105 - val_accuracy: 0.9375 - 35s/epoch - 101ms/step\n",
      "Epoch 71/100\n",
      "350/350 - 35s - loss: 4.6959e-04 - accuracy: 0.9998 - val_loss: 0.3044 - val_accuracy: 0.9375 - 35s/epoch - 100ms/step\n",
      "Epoch 72/100\n",
      "350/350 - 35s - loss: 3.7000e-04 - accuracy: 1.0000 - val_loss: 0.2994 - val_accuracy: 0.9400 - 35s/epoch - 100ms/step\n",
      "Epoch 73/100\n",
      "350/350 - 35s - loss: 2.5068e-04 - accuracy: 1.0000 - val_loss: 0.2978 - val_accuracy: 0.9375 - 35s/epoch - 101ms/step\n",
      "Epoch 74/100\n",
      "350/350 - 35s - loss: 2.0904e-04 - accuracy: 1.0000 - val_loss: 0.3078 - val_accuracy: 0.9362 - 35s/epoch - 100ms/step\n",
      "Epoch 75/100\n",
      "350/350 - 35s - loss: 3.4605e-04 - accuracy: 1.0000 - val_loss: 0.2957 - val_accuracy: 0.9400 - 35s/epoch - 101ms/step\n"
     ]
    }
   ],
   "source": [
    "from keras.callbacks import ModelCheckpoint, EarlyStopping\n",
    "\n",
    "checkpoint=  ModelCheckpoint(filepath ='vgg16_1.hdf5',monitor='val_accuracy',save_best_only=True,save_weights_only=True)\n",
    "Earlystop = EarlyStopping(monitor='val_loss', mode='min',patience=65, min_delta=0.001)\n",
    "history = model.fit(train_data,\n",
    "                    steps_per_epoch=350,\n",
    "                    epochs=100,\n",
    "                    verbose=2,\n",
    "                    validation_data=test_data,validation_steps=50,callbacks=[checkpoint,Earlystop],class_weight=class_weights)"
   ]
  },
  {
   "cell_type": "code",
   "execution_count": 49,
   "metadata": {},
   "outputs": [],
   "source": [
    "from tensorflow.keras import models\n",
    "model.load_weights(\"vgg16_1.hdf5\")"
   ]
  },
  {
   "cell_type": "code",
   "execution_count": 50,
   "metadata": {},
   "outputs": [],
   "source": [
    "predictions = model.predict(test_data, steps=1525/16, verbose=0)"
   ]
  },
  {
   "cell_type": "code",
   "execution_count": 51,
   "metadata": {},
   "outputs": [
    {
     "name": "stdout",
     "output_type": "stream",
     "text": [
      "\n",
      "Classification Report:\n",
      "              precision    recall  f1-score   support\n",
      "\n",
      "       akiec       0.90      0.93      0.91        40\n",
      "         bcc       0.96      1.00      0.98        48\n",
      "         bkl       0.88      0.96      0.92       124\n",
      "          df       0.79      1.00      0.88        11\n",
      "         mel       0.63      0.97      0.76        63\n",
      "          nv       0.99      0.95      0.97      1222\n",
      "        vasc       0.73      0.94      0.82        17\n",
      "\n",
      "    accuracy                           0.95      1525\n",
      "   macro avg       0.84      0.96      0.89      1525\n",
      "weighted avg       0.96      0.95      0.95      1525\n",
      "\n"
     ]
    }
   ],
   "source": [
    "from sklearn.metrics import  precision_score, recall_score, accuracy_score,classification_report ,confusion_matrix\n",
    "#geting predictions on test dataset\n",
    "y_pred = np.argmax(predictions, axis=1)\n",
    "\n",
    "targetnames = ['akiec', 'bcc', 'bkl', 'df', 'mel', 'nv', 'vasc']\n",
    "#getting the true labels per image \n",
    "y_true = test_data.classes\n",
    "\n",
    "#getting the predicted labels per image \n",
    "y_prob=predictions\n",
    "from tensorflow.keras.utils import to_categorical\n",
    "y_test = to_categorical(y_true)\n",
    "\n",
    "# Creating classification report \n",
    "report = classification_report(y_true, y_pred, target_names=targetnames)\n",
    "\n",
    "print(\"\\nClassification Report:\")\n",
    "print(report)"
   ]
  },
  {
   "cell_type": "code",
   "execution_count": 52,
   "metadata": {},
   "outputs": [
    {
     "name": "stdout",
     "output_type": "stream",
     "text": [
      "Precision: 0.9619731468533602\n",
      "Recall: 0.9514754098360656\n",
      "Accuracy: 0.9514754098360656\n",
      "weighted Roc score: 0.9922014612147626\n"
     ]
    }
   ],
   "source": [
    "from sklearn.metrics import roc_auc_score\n",
    "print(\"Precision: \"+ str(precision_score(y_true, y_pred, average='weighted')))\n",
    "print(\"Recall: \"+ str(recall_score(y_true, y_pred, average='weighted')))\n",
    "print(\"Accuracy: \" + str(accuracy_score(y_true, y_pred)))\n",
    "print(\"weighted Roc score: \" + str(roc_auc_score(y_true,y_prob,multi_class='ovr',average='weighted')))"
   ]
  },
  {
   "cell_type": "code",
   "execution_count": 53,
   "metadata": {},
   "outputs": [
    {
     "name": "stdout",
     "output_type": "stream",
     "text": [
      "The ROC AUC score of akiec is: 0.9995622895622895\n",
      "The ROC AUC score of bcc is: 0.9998730534867976\n",
      "The ROC AUC score of bkl is: 0.9936968985287007\n",
      "The ROC AUC score of df is: 0.9996997718265882\n",
      "The ROC AUC score of mel is: 0.9926172019195275\n",
      "The ROC AUC score of nv is: 0.9913143523845018\n",
      "The ROC AUC score of vasc is: 0.9996879388360119\n"
     ]
    }
   ],
   "source": [
    "fpr = {}\n",
    "tpr = {}\n",
    "roc_auc = {}\n",
    "for i in range(7):\n",
    "    r = roc_auc_score(y_test[:, i], y_prob[:, i])\n",
    "    print(\"The ROC AUC score of \"+targetnames[i]+\" is: \"+str(r))"
   ]
  },
  {
   "cell_type": "code",
   "execution_count": 54,
   "metadata": {},
   "outputs": [
    {
     "data": {
      "image/png": "[encoded data removed]",
      "text/plain": [
       "<Figure size 432x288 with 1 Axes>"
      ]
     },
     "metadata": {
      "needs_background": "light"
     },
     "output_type": "display_data"
    }
   ],
   "source": [
    "import matplotlib.pyplot as plt\n",
    "import numpy\n",
    "\n",
    "# summarize history for accuracy\n",
    "plt.plot(history.history['accuracy'])\n",
    "plt.plot(history.history['val_accuracy'])\n",
    "plt.title('model accuracy')\n",
    "plt.ylabel('accuracy')\n",
    "plt.xlabel('epoch')\n",
    "plt.legend(['train', 'test'], loc='upper left')\n",
    "plt.show()"
   ]
  },
  {
   "cell_type": "code",
   "execution_count": 55,
   "metadata": {},
   "outputs": [
    {
     "data": {
      "image/png": "[encoded data removed]",
      "text/plain": [
       "<Figure size 432x288 with 1 Axes>"
      ]
     },
     "metadata": {
      "needs_background": "light"
     },
     "output_type": "display_data"
    }
   ],
   "source": [
    "# summarize history for loss\n",
    "plt.plot(history.history['loss'])\n",
    "plt.plot(history.history['val_loss'])\n",
    "plt.title('model loss')\n",
    "plt.ylabel('loss')\n",
    "plt.xlabel('epoch')\n",
    "plt.legend(['train', 'test'], loc='upper left')\n",
    "plt.show()"
   ]
  },
  {
   "cell_type": "code",
   "execution_count": null,
   "metadata": {},
   "outputs": [],
   "source": []
  }
 ],
 "metadata": {
  "accelerator": "GPU",
  "colab": {
   "collapsed_sections": [],
   "name": "VGG16.ipynb",
   "provenance": []
  },
  "kernelspec": {
   "display_name": "Python 3 (ipykernel)",
   "language": "python",
   "name": "python3"
  },
  "language_info": {
   "codemirror_mode": {
    "name": "ipython",
    "version": 3
   },
   "file_extension": ".py",
   "mimetype": "text/x-python",
   "name": "python",
   "nbconvert_exporter": "python",
   "pygments_lexer": "ipython3",
   "version": "3.9.12"
  }
 },
 "nbformat": 4,
 "nbformat_minor": 1
}
